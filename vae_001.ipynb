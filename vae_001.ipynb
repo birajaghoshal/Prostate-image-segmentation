{
 "cells": [
  {
   "cell_type": "code",
   "execution_count": 1,
   "metadata": {},
   "outputs": [
    {
     "name": "stderr",
     "output_type": "stream",
     "text": [
      "Using TensorFlow backend.\n"
     ]
    }
   ],
   "source": [
    "import os as os\n",
    "import csv as csv\n",
    "from PIL import Image\n",
    "import matplotlib.pyplot as plt\n",
    "import numpy as np\n",
    "from time import time\n",
    "import pandas as pd\n",
    "import numpy as np\n",
    "from PIL import Image\n",
    "import keras.layers.advanced_activations\n",
    "import scipy\n",
    "import random\n",
    "import matplotlib.pyplot as plt  \n",
    "from scipy.stats import norm  \n",
    "import keras\n",
    "from keras.models import Sequential\n",
    "from keras.initializers import VarianceScaling,RandomNormal\n",
    "from keras.layers import Input, Dense, Dropout, Conv2D, MaxPooling2D,concatenate\n",
    "from keras.layers import UpSampling2D, Reshape, Lambda, Flatten, Activation\n",
    "from keras.models import Model  \n",
    "from keras.optimizers import SGD, Adadelta, Adagrad,Adam\n",
    "from keras import backend as K  \n",
    "from keras import objectives  \n",
    "from keras.utils.vis_utils import plot_model  \n",
    "from keras.utils import np_utils, generic_utils\n",
    "import sys \n",
    "import tensorflow as tf\n",
    "from keras.callbacks import TensorBoard, ModelCheckpoint\n",
    "from keras.layers import BatchNormalization\n",
    "from keras.layers.normalization import BatchNormalization\n",
    "import matplotlib.pyplot as plt\n",
    "import os\n",
    "os.environ['CUDA_VISIBLE_DEVICES'] = '1'\n",
    "import sklearn\n",
    "from mpl_toolkits.mplot3d import Axes3D\n",
    "from matplotlib.ticker import NullFormatter\n",
    "%matplotlib inline\n",
    "from sklearn import manifold, datasets,cluster\n",
    "from sklearn.utils import check_random_state\n",
    "from sklearn import metrics"
   ]
  },
  {
   "cell_type": "code",
   "execution_count": 2,
   "metadata": {
    "collapsed": true
   },
   "outputs": [],
   "source": [
    "import SimpleITK as sitk  \n",
    "import cv2 "
   ]
  },
  {
   "cell_type": "code",
   "execution_count": 3,
   "metadata": {
    "collapsed": true
   },
   "outputs": [],
   "source": [
    "normalized_data = np.loadtxt(\"normalized_data.txt\")\n",
    "original_label = np.loadtxt(\"original_label.txt\")"
   ]
  },
  {
   "cell_type": "code",
   "execution_count": 4,
   "metadata": {
    "collapsed": true
   },
   "outputs": [],
   "source": [
    "normalized_data = np.reshape(normalized_data,(-1,512,512,1))\n",
    "original_label = np.reshape(original_label,(-1,512,512,1))"
   ]
  },
  {
   "cell_type": "code",
   "execution_count": 5,
   "metadata": {
    "collapsed": true
   },
   "outputs": [],
   "source": [
    "batch_size =1\n",
    "latent_dim = 80\n",
    "nb_epoch = 50   \n",
    "intermediate_dim_1 = 10\n",
    "#intermediate_dim_2 = 300\n",
    "\n",
    "input_img = Input(shape=(512,512,1))\n",
    "\n",
    "conv_1 = Conv2D(8, (3, 3), activation='relu', padding='same',kernel_initializer='normal')(input_img)\n",
    "maxpool_1 = MaxPooling2D((2, 2),  padding='same')(conv_1)\n",
    "\n",
    "conv_2 = Conv2D(8, (3, 3), activation='relu', padding='same',kernel_initializer='normal')(maxpool_1)\n",
    "maxpool_2 = MaxPooling2D((2, 2),  padding='same')(conv_2)\n",
    "\n",
    "conv_3 = Conv2D(8, (3, 3), activation='relu', padding='same',kernel_initializer='normal')(maxpool_2)\n",
    "maxpool_3 = MaxPooling2D((2, 2),  padding='same')(conv_3)\n",
    "\n",
    "conv_4 = Conv2D(8, (3, 3), activation='relu', padding='same',kernel_initializer='normal')(maxpool_3)\n",
    "maxpool_4 = MaxPooling2D((2, 2),  padding='same')(conv_4)\n",
    "\n",
    "conv_5 = Conv2D(8, (3, 3), activation='tanh', padding='same',kernel_initializer='normal')(maxpool_4)\n",
    "maxpool_5 = MaxPooling2D((2, 2),  padding='same')(conv_5)\n",
    "\n",
    "#x = Conv2D(5, (3, 3), activation='relu', padding='same',kernel_initializer='normal')(x)\n",
    "#x = MaxPooling2D((2, 2),  padding='same')(x)\n",
    "\n",
    "visual = Flatten()(maxpool_5)\n",
    "h_1 = Dense(intermediate_dim_1, activation='relu')(visual)\n",
    "h_4 = Dense(intermediate_dim_1,activation='tanh')(h_1)\n",
    "h_5 = Dense(8*16*16,activation='relu')(h_4)\n",
    "h_6 = Reshape((16,16,8))(h_5)\n",
    "\n",
    "\n",
    "conv_6 = Conv2D(8, (3, 3), activation='tanh', padding='same',kernel_initializer='normal')(h_6)\n",
    "upsample_6 = UpSampling2D((2, 2))(conv_6)\n",
    "\n",
    "conv_7 = Conv2D(8, (3, 3), activation='relu', padding='same',kernel_initializer='normal')(upsample_6)\n",
    "upsample_7 = UpSampling2D((2, 2))(conv_7)\n",
    "\n",
    "conv_8 = Conv2D(8, (3, 3), activation='relu', padding='same',kernel_initializer='normal')(upsample_7)\n",
    "upsample_8 = UpSampling2D((2, 2))(conv_8)\n",
    "\n",
    "conv_9 = Conv2D(8, (3, 3), activation='relu', padding='same',kernel_initializer='normal')(upsample_8)\n",
    "upsample_9 = UpSampling2D((2, 2))(conv_9)\n",
    "\n",
    "conv_10 = Conv2D(8,  (3, 3), activation='tanh',padding='same',kernel_initializer='normal')(upsample_9)\n",
    "upsample_10 = UpSampling2D((2, 2))(conv_10)\n",
    "\n",
    "decoded = Conv2D(1, (3, 3), activation='sigmoid', padding='same')(upsample_10)\n",
    "\n",
    "EarlyStopping = keras.callbacks.EarlyStopping(monitor='val_loss', min_delta=0, patience=10, verbose=0, mode='auto')\n",
    "\n",
    "\n",
    "def vae_loss(x, decoded):  \n",
    "    xent_loss = K.sum(K.sum(objectives.binary_crossentropy(x ,decoded),axis=-1),axis=-1)\n",
    "    return xent_loss \n",
    "\n",
    "\n",
    "vae = Model(inputs=input_img, outputs=decoded)\n",
    "vae.compile(optimizer='rmsprop', loss=vae_loss)"
   ]
  },
  {
   "cell_type": "code",
   "execution_count": 6,
   "metadata": {},
   "outputs": [
    {
     "name": "stdout",
     "output_type": "stream",
     "text": [
      "Train on 1300 samples, validate on 50 samples\n",
      "Epoch 1/100\n",
      "1300/1300 [==============================] - 38s - loss: 12931.1377 - val_loss: 5620.8394\n",
      "Epoch 2/100\n",
      "1300/1300 [==============================] - 33s - loss: 10955.8276 - val_loss: 3950.4828\n",
      "Epoch 3/100\n",
      "1300/1300 [==============================] - 33s - loss: 11322.8373 - val_loss: 5223.6002\n",
      "Epoch 4/100\n",
      "1300/1300 [==============================] - 33s - loss: 10507.9503 - val_loss: 3944.9378\n",
      "Epoch 5/100\n",
      "1300/1300 [==============================] - 33s - loss: 10124.4535 - val_loss: 3219.0539\n",
      "Epoch 6/100\n",
      "1300/1300 [==============================] - 33s - loss: 9329.1642 - val_loss: 3369.1340\n",
      "Epoch 7/100\n",
      "1300/1300 [==============================] - 33s - loss: 9051.2742 - val_loss: 3341.8374\n",
      "Epoch 8/100\n",
      "1300/1300 [==============================] - 33s - loss: 8385.7387 - val_loss: 3811.7684\n",
      "Epoch 9/100\n",
      "1300/1300 [==============================] - 33s - loss: 8234.7338 - val_loss: 4025.3139\n",
      "Epoch 10/100\n",
      "1300/1300 [==============================] - 33s - loss: 7855.0345 - val_loss: 3432.0822\n",
      "Epoch 11/100\n",
      "1300/1300 [==============================] - 33s - loss: 7403.8722 - val_loss: 3233.9741\n",
      "Epoch 12/100\n",
      "1300/1300 [==============================] - 33s - loss: 7700.0507 - val_loss: 3714.8025\n",
      "Epoch 13/100\n",
      "1300/1300 [==============================] - 33s - loss: 7652.2642 - val_loss: 3298.9747\n",
      "Epoch 14/100\n",
      "1300/1300 [==============================] - 33s - loss: 7404.2274 - val_loss: 3265.8969\n",
      "Epoch 15/100\n",
      "1300/1300 [==============================] - 34s - loss: 7118.6404 - val_loss: 3929.8311\n",
      "Epoch 16/100\n",
      "1300/1300 [==============================] - 33s - loss: 6747.6180 - val_loss: 3714.1170\n"
     ]
    },
    {
     "data": {
      "text/plain": [
       "<keras.callbacks.History at 0x7f853768a2e8>"
      ]
     },
     "execution_count": 6,
     "metadata": {},
     "output_type": "execute_result"
    }
   ],
   "source": [
    "vae.fit(normalized_data[:1300], original_label[:1300],\n",
    "        shuffle=True,\n",
    "        epochs=100,\n",
    "        batch_size=batch_size,\n",
    "        validation_data=(normalized_data[1300:1350], original_label[1300:1350]),callbacks=[EarlyStopping])"
   ]
  },
  {
   "cell_type": "code",
   "execution_count": null,
   "metadata": {
    "collapsed": true
   },
   "outputs": [],
   "source": []
  }
 ],
 "metadata": {
  "kernelspec": {
   "display_name": "Python 3",
   "language": "python",
   "name": "python3"
  },
  "language_info": {
   "codemirror_mode": {
    "name": "ipython",
    "version": 3
   },
   "file_extension": ".py",
   "mimetype": "text/x-python",
   "name": "python",
   "nbconvert_exporter": "python",
   "pygments_lexer": "ipython3",
   "version": "3.6.2"
  }
 },
 "nbformat": 4,
 "nbformat_minor": 2
}
